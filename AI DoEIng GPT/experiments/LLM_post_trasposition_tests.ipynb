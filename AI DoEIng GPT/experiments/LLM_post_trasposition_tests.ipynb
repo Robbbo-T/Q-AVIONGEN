{
 "cells": [
  {
   "cell_type": "markdown",
   "id": "bef91dda",
   "metadata": {},
   "source": [
    "# AI DoEIng GPT Post-Transposition Notebook\n",
    "\n",
    "This notebook explores different prompt models and structural conversions using transformers."
   ]
  },
  {
   "cell_type": "code",
   "execution_count": null,
   "id": "69020bb5",
   "metadata": {},
   "outputs": [],
   "source": []
  }
 ],
 "metadata": {
  "language_info": {
   "name": "python"
  }
 },
 "nbformat": 4,
 "nbformat_minor": 5
}
